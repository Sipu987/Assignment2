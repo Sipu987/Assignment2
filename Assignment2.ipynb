{
 "cells": [
  {
   "cell_type": "code",
   "execution_count": 2,
   "id": "96e89ca4-deb9-4904-8765-b5b0f2aa2d48",
   "metadata": {},
   "outputs": [],
   "source": [
    "#Q1. Which keyword is used to create a function? Create a function to return a list of odd numbers in the\n",
    "#range of 1 to 25."
   ]
  },
  {
   "cell_type": "code",
   "execution_count": 26,
   "id": "7f5531e5-4bcb-4883-a85c-c4ac8c44e96f",
   "metadata": {},
   "outputs": [],
   "source": [
    "#Ans - def is keyword to create a function\n",
    "def test(a,b):\n",
    "    for i in range(a,b+1):\n",
    "        if i%2==0:\n",
    "            pass\n",
    "        else:\n",
    "            print(i)"
   ]
  },
  {
   "cell_type": "code",
   "execution_count": 27,
   "id": "f98b3cbc-6e6a-47e2-beec-c73b8b766997",
   "metadata": {},
   "outputs": [
    {
     "name": "stdout",
     "output_type": "stream",
     "text": [
      "1\n",
      "3\n",
      "5\n",
      "7\n",
      "9\n",
      "11\n",
      "13\n",
      "15\n",
      "17\n",
      "19\n",
      "21\n",
      "23\n",
      "25\n"
     ]
    }
   ],
   "source": [
    "test(1,25)"
   ]
  },
  {
   "cell_type": "code",
   "execution_count": 28,
   "id": "5dfe3ddd-6adc-4979-95fb-48713916c014",
   "metadata": {},
   "outputs": [],
   "source": [
    "#Q2. Why *args and **kwargs is used in some functions? Create a function each for *args and **kwargs to\n",
    "#demonstrate their use."
   ]
  },
  {
   "cell_type": "code",
   "execution_count": 66,
   "id": "d7ff3847-ef06-481f-9a69-135064e58b8e",
   "metadata": {},
   "outputs": [],
   "source": [
    "#Ans - *args - Argument passes in function can be perfomed. *kwargs - Argument psasses on dictioonary can be performed.\n",
    "def test1(*args):\n",
    "    l=[]\n",
    "    for i in args:\n",
    "        if type(i)==list:\n",
    "             l.append(i)\n",
    "            \n",
    "    return l"
   ]
  },
  {
   "cell_type": "code",
   "execution_count": 67,
   "id": "23b8825b-d751-4dae-9199-9a383050d2be",
   "metadata": {},
   "outputs": [],
   "source": [
    "d=(1,2,3,[1,6,7],'sx','lkg')"
   ]
  },
  {
   "cell_type": "code",
   "execution_count": 68,
   "id": "cd4a9b8f-08b1-40ec-933f-40d83c0f5475",
   "metadata": {},
   "outputs": [
    {
     "data": {
      "text/plain": [
       "[[1, 6, 7]]"
      ]
     },
     "execution_count": 68,
     "metadata": {},
     "output_type": "execute_result"
    }
   ],
   "source": [
    "test1(*d)"
   ]
  },
  {
   "cell_type": "code",
   "execution_count": 90,
   "id": "70145449-b733-4c6c-b9f9-d8f6934d4b6f",
   "metadata": {},
   "outputs": [],
   "source": [
    "def test(**kwargs):\n",
    "    return kwargs\n",
    "d= test(a=3,b=6,c=[9,7,8],d='sdf')"
   ]
  },
  {
   "cell_type": "code",
   "execution_count": 93,
   "id": "1cb85aca-b4ce-449d-8b69-e09a7c9cb4bb",
   "metadata": {},
   "outputs": [],
   "source": [
    "def test2(**kwargs):\n",
    "    for i in kwargs.keys():\n",
    "        if type(kwargs[i])==list:\n",
    "            return i,kwargs[i]"
   ]
  },
  {
   "cell_type": "code",
   "execution_count": 94,
   "id": "76623de6-a563-432d-9846-b329ee23d5e2",
   "metadata": {},
   "outputs": [
    {
     "data": {
      "text/plain": [
       "('c', [9, 7, 8])"
      ]
     },
     "execution_count": 94,
     "metadata": {},
     "output_type": "execute_result"
    }
   ],
   "source": [
    "test2(**d)"
   ]
  },
  {
   "cell_type": "code",
   "execution_count": 95,
   "id": "0de6620a-2327-41ff-9fb1-6ca687c2e910",
   "metadata": {},
   "outputs": [],
   "source": [
    "#Q3. What is an iterator in python? Name the method used to initialise the iterator object and the method\n",
    "# used for iteration. Use these methods to print the first five elements of the given list [2, 4, 6, 8, 10, 12, 14, 16,\n",
    "# 18, 20]."
   ]
  },
  {
   "cell_type": "code",
   "execution_count": 111,
   "id": "59dbb7d4-2ba1-42d2-90e0-b6bc7854129d",
   "metadata": {},
   "outputs": [
    {
     "name": "stdout",
     "output_type": "stream",
     "text": [
      "2\n",
      "4\n",
      "6\n",
      "8\n",
      "10\n"
     ]
    }
   ],
   "source": [
    "# Ans - iterator is an object which contains number of values. iter() is used for generate iterator. iter() and next() method used for iteration\n",
    "l=[2, 4, 6, 8, 10, 12, 14, 16,18, 20]\n",
    "iter1 = iter(l)\n",
    "for i in range(5):\n",
    "    print(next(iter1))  "
   ]
  },
  {
   "cell_type": "code",
   "execution_count": 110,
   "id": "2a62ff2e-e5dc-41d7-944d-ef1830609330",
   "metadata": {},
   "outputs": [],
   "source": [
    "#Q4. What is a generator function in python? Why yield keyword is used? Give an example of a generator\n",
    "# function."
   ]
  },
  {
   "cell_type": "code",
   "execution_count": 112,
   "id": "9611ca52-9c4b-45b3-91c7-9918d9935635",
   "metadata": {},
   "outputs": [],
   "source": [
    "#Ans - generator is an object which creates number iterator values. It will provides value when run in loop. Yield is used when we \n",
    "# iterate over sequence of values but it did not store it."
   ]
  },
  {
   "cell_type": "code",
   "execution_count": 118,
   "id": "03225d64-9aa0-40f4-876b-7364949f9d32",
   "metadata": {},
   "outputs": [],
   "source": [
    "def test3(n):\n",
    "    a,b = 0,1\n",
    "    for i in range(n):\n",
    "        yield a\n",
    "        a,b = b,a**2+b"
   ]
  },
  {
   "cell_type": "code",
   "execution_count": 120,
   "id": "ae97b490-8a3e-4083-9972-4b50ada971eb",
   "metadata": {},
   "outputs": [
    {
     "name": "stdout",
     "output_type": "stream",
     "text": [
      "0\n",
      "1\n",
      "1\n",
      "2\n",
      "3\n"
     ]
    }
   ],
   "source": [
    "for i in test3(5):\n",
    "    print(i)"
   ]
  },
  {
   "cell_type": "code",
   "execution_count": 121,
   "id": "1ce75752-acfa-48ba-8221-203e441a5016",
   "metadata": {},
   "outputs": [],
   "source": [
    "#Q5. Create a generator function for prime numbers less than 1000. Use the next() method to print the\n",
    "# first 20 prime numbers."
   ]
  },
  {
   "cell_type": "code",
   "execution_count": 125,
   "id": "54863172-ab54-462a-854c-133c318c2e3a",
   "metadata": {},
   "outputs": [
    {
     "name": "stdout",
     "output_type": "stream",
     "text": [
      "2\n",
      "3\n",
      "5\n",
      "7\n",
      "11\n",
      "13\n",
      "17\n",
      "19\n",
      "23\n",
      "29\n",
      "31\n",
      "37\n",
      "41\n",
      "43\n",
      "47\n",
      "53\n",
      "59\n",
      "61\n",
      "67\n",
      "71\n"
     ]
    }
   ],
   "source": [
    "n=[]\n",
    "for i in range(2,1000):\n",
    "    isprime=True\n",
    "    for j in range(2,i):\n",
    "        if i%j==0:\n",
    "            isprime=False\n",
    "    if isprime:\n",
    "        n.append(i)  \n",
    "iter1 = iter(n)\n",
    "for i in range(20):\n",
    "    print(next(iter1))  "
   ]
  },
  {
   "cell_type": "code",
   "execution_count": null,
   "id": "d1d60a5f-66d8-413a-aaa0-138acbe967da",
   "metadata": {},
   "outputs": [],
   "source": [
    "## Tried hard but unable to create generator for prime number"
   ]
  }
 ],
 "metadata": {
  "kernelspec": {
   "display_name": "Python 3 (ipykernel)",
   "language": "python",
   "name": "python3"
  },
  "language_info": {
   "codemirror_mode": {
    "name": "ipython",
    "version": 3
   },
   "file_extension": ".py",
   "mimetype": "text/x-python",
   "name": "python",
   "nbconvert_exporter": "python",
   "pygments_lexer": "ipython3",
   "version": "3.10.8"
  }
 },
 "nbformat": 4,
 "nbformat_minor": 5
}
